{
 "cells": [
  {
   "cell_type": "markdown",
   "metadata": {},
   "source": [
    "# 1 Understand the Data Structure"
   ]
  },
  {
   "cell_type": "code",
   "execution_count": 3,
   "metadata": {},
   "outputs": [
    {
     "name": "stdout",
     "output_type": "stream",
     "text": [
      "<class 'pandas.core.frame.DataFrame'>\n",
      "RangeIndex: 230130 entries, 0 to 230129\n",
      "Data columns (total 6 columns):\n",
      " #   Column    Non-Null Count   Dtype  \n",
      "---  ------    --------------   -----  \n",
      " 0   id        230130 non-null  int64  \n",
      " 1   date      230130 non-null  object \n",
      " 2   country   230130 non-null  object \n",
      " 3   store     230130 non-null  object \n",
      " 4   product   230130 non-null  object \n",
      " 5   num_sold  221259 non-null  float64\n",
      "dtypes: float64(1), int64(1), object(4)\n",
      "memory usage: 10.5+ MB\n"
     ]
    }
   ],
   "source": [
    "import os\n",
    "import pandas as pd\n",
    "import numpy as np \n",
    "import matplotlib.pyplot as plt\n",
    "import seaborn as sns\n",
    "\n",
    "os.chdir('../data/raw')\n",
    "train = pd.read_csv('train.csv')\n",
    "test = pd.read_csv('test.csv')\n",
    "train.info()"
   ]
  },
  {
   "cell_type": "markdown",
   "metadata": {},
   "source": [
    "### 1.1 Check how many unique stores, countries, and product exist"
   ]
  },
  {
   "cell_type": "code",
   "execution_count": 4,
   "metadata": {},
   "outputs": [
    {
     "name": "stdout",
     "output_type": "stream",
     "text": [
      "Train: \n",
      "store\n",
      "Discount Stickers       76710\n",
      "Stickers for Less       76710\n",
      "Premium Sticker Mart    76710\n",
      "Name: count, dtype: int64 \n",
      "====\n",
      "Test:\n",
      " store\n",
      "Discount Stickers       32850\n",
      "Stickers for Less       32850\n",
      "Premium Sticker Mart    32850\n",
      "Name: count, dtype: int64\n"
     ]
    }
   ],
   "source": [
    "# Stores\n",
    "print(\n",
    "    f\"Train: \\n{train.store.value_counts()}\", \n",
    "    f\"\\n====\\nTest:\\n {test.store.value_counts()}\"\n",
    "    )"
   ]
  },
  {
   "cell_type": "code",
   "execution_count": 5,
   "metadata": {},
   "outputs": [
    {
     "name": "stdout",
     "output_type": "stream",
     "text": [
      "Train: \n",
      "country\n",
      "Canada       38355\n",
      "Finland      38355\n",
      "Italy        38355\n",
      "Kenya        38355\n",
      "Norway       38355\n",
      "Singapore    38355\n",
      "Name: count, dtype: int64 \n",
      "====\n",
      "Test:\n",
      " country\n",
      "Canada       16425\n",
      "Finland      16425\n",
      "Italy        16425\n",
      "Kenya        16425\n",
      "Norway       16425\n",
      "Singapore    16425\n",
      "Name: count, dtype: int64\n"
     ]
    }
   ],
   "source": [
    "# Countries\n",
    "print(\n",
    "    f\"Train: \\n{train.country.value_counts()}\", \n",
    "    f\"\\n====\\nTest:\\n {test.country.value_counts()}\"\n",
    "    )"
   ]
  },
  {
   "cell_type": "code",
   "execution_count": 6,
   "metadata": {},
   "outputs": [
    {
     "name": "stdout",
     "output_type": "stream",
     "text": [
      "Train: \n",
      "product\n",
      "Holographic Goose     46026\n",
      "Kaggle                46026\n",
      "Kaggle Tiers          46026\n",
      "Kerneler              46026\n",
      "Kerneler Dark Mode    46026\n",
      "Name: count, dtype: int64 \n",
      "====\n",
      "Test:\n",
      " product\n",
      "Holographic Goose     19710\n",
      "Kaggle                19710\n",
      "Kaggle Tiers          19710\n",
      "Kerneler              19710\n",
      "Kerneler Dark Mode    19710\n",
      "Name: count, dtype: int64\n"
     ]
    }
   ],
   "source": [
    "# Products \n",
    "print(\n",
    "    f\"Train: \\n{train['product'].value_counts()}\", \n",
    "    f\"\\n====\\nTest:\\n {test['product'].value_counts()}\"\n",
    "    )"
   ]
  },
  {
   "cell_type": "markdown",
   "metadata": {},
   "source": [
    "<div style=\"padding: 20px 12px; background-color: lightcyan; color: darkcyan; font-weight: bold\"> The stores, countries, and products are divided equally... </div>"
   ]
  },
  {
   "cell_type": "markdown",
   "metadata": {},
   "source": [
    "### 1.2 Identify the time range of training vs test data"
   ]
  },
  {
   "cell_type": "code",
   "execution_count": 7,
   "metadata": {},
   "outputs": [
    {
     "name": "stdout",
     "output_type": "stream",
     "text": [
      "Train: \n",
      "min    2010-01-01\n",
      "max    2016-12-31\n",
      "Name: date, dtype: object \n",
      "====\n",
      "Test:\n",
      " min    2017-01-01\n",
      "max    2019-12-31\n",
      "Name: date, dtype: object\n"
     ]
    }
   ],
   "source": [
    "# Dates\n",
    "print(\n",
    "    f\"Train: \\n{train['date'].agg(['min', 'max'])}\", \n",
    "    f\"\\n====\\nTest:\\n {test['date'].agg(['min', 'max'])}\"\n",
    "    )"
   ]
  },
  {
   "cell_type": "markdown",
   "metadata": {},
   "source": [
    "<div style=\"padding: 20px 12px; background-color: lightcyan; color: darkcyan; font-weight: bold\">\n",
    "    The time range for training set is from the beginning of 2010 to the end of 2016 (7 years) while for the test set, it is from 2017 to the end of 2019 (2 years).\n",
    "</div>"
   ]
  },
  {
   "cell_type": "markdown",
   "metadata": {},
   "source": [
    "### 1.3 Verify date frequency"
   ]
  },
  {
   "cell_type": "code",
   "execution_count": 8,
   "metadata": {},
   "outputs": [
    {
     "data": {
      "text/plain": [
       "date\n",
       "2016-12-31    90\n",
       "2010-01-01    90\n",
       "2010-01-02    90\n",
       "2010-01-03    90\n",
       "2010-01-04    90\n",
       "              ..\n",
       "2010-01-18    90\n",
       "2010-01-17    90\n",
       "2010-01-16    90\n",
       "2010-01-15    90\n",
       "2010-01-14    90\n",
       "Name: count, Length: 2557, dtype: int64"
      ]
     },
     "execution_count": 8,
     "metadata": {},
     "output_type": "execute_result"
    }
   ],
   "source": [
    "train['date'].value_counts()"
   ]
  },
  {
   "cell_type": "code",
   "execution_count": 9,
   "metadata": {},
   "outputs": [
    {
     "data": {
      "text/plain": [
       "date\n",
       "2019-12-31    90\n",
       "2017-01-01    90\n",
       "2017-01-02    90\n",
       "2017-01-03    90\n",
       "2017-01-04    90\n",
       "              ..\n",
       "2017-01-12    90\n",
       "2017-01-11    90\n",
       "2017-01-10    90\n",
       "2017-01-09    90\n",
       "2017-01-08    90\n",
       "Name: count, Length: 1095, dtype: int64"
      ]
     },
     "execution_count": 9,
     "metadata": {},
     "output_type": "execute_result"
    }
   ],
   "source": [
    "test['date'].value_counts()"
   ]
  },
  {
   "cell_type": "markdown",
   "metadata": {},
   "source": [
    "<div style=\"padding: 20px 12px; background-color: lightcyan; color: darkcyan; font-weight: bold\">\n",
    "    For each day, there are 90 occurrences.\n",
    "</div>"
   ]
  },
  {
   "cell_type": "markdown",
   "metadata": {},
   "source": [
    "# 2 Data Cleaning"
   ]
  },
  {
   "cell_type": "code",
   "execution_count": 16,
   "metadata": {},
   "outputs": [
    {
     "name": "stdout",
     "output_type": "stream",
     "text": [
      "Missing values in train set: \n",
      " id             0\n",
      "date           0\n",
      "country        0\n",
      "store          0\n",
      "product        0\n",
      "num_sold    8871\n",
      "dtype: int64\n",
      "\n",
      "\n",
      "Missing values in test set: \n",
      " id         0\n",
      "date       0\n",
      "country    0\n",
      "store      0\n",
      "product    0\n",
      "dtype: int64\n"
     ]
    }
   ],
   "source": [
    "print(\"Missing values in train set: \\n\", train.isnull().sum()) \n",
    "print(\"\\n\\nMissing values in test set: \\n\", test.isnull().sum())"
   ]
  },
  {
   "cell_type": "markdown",
   "metadata": {},
   "source": [
    "So, the missing values are only in the num_sold column"
   ]
  },
  {
   "cell_type": "code",
   "execution_count": 25,
   "metadata": {},
   "outputs": [
    {
     "name": "stdout",
     "output_type": "stream",
     "text": [
      "Total groups with missing data: 9\n"
     ]
    },
    {
     "data": {
      "text/html": [
       "<div>\n",
       "<style scoped>\n",
       "    .dataframe tbody tr th:only-of-type {\n",
       "        vertical-align: middle;\n",
       "    }\n",
       "\n",
       "    .dataframe tbody tr th {\n",
       "        vertical-align: top;\n",
       "    }\n",
       "\n",
       "    .dataframe thead th {\n",
       "        text-align: right;\n",
       "    }\n",
       "</style>\n",
       "<table border=\"1\" class=\"dataframe\">\n",
       "  <thead>\n",
       "    <tr style=\"text-align: right;\">\n",
       "      <th></th>\n",
       "      <th>store</th>\n",
       "      <th>country</th>\n",
       "      <th>product</th>\n",
       "      <th>total_count</th>\n",
       "      <th>missing_count</th>\n",
       "    </tr>\n",
       "  </thead>\n",
       "  <tbody>\n",
       "    <tr>\n",
       "      <th>0</th>\n",
       "      <td>Discount Stickers</td>\n",
       "      <td>Canada</td>\n",
       "      <td>Holographic Goose</td>\n",
       "      <td>2557</td>\n",
       "      <td>2557</td>\n",
       "    </tr>\n",
       "    <tr>\n",
       "      <th>15</th>\n",
       "      <td>Discount Stickers</td>\n",
       "      <td>Kenya</td>\n",
       "      <td>Holographic Goose</td>\n",
       "      <td>2557</td>\n",
       "      <td>2557</td>\n",
       "    </tr>\n",
       "    <tr>\n",
       "      <th>75</th>\n",
       "      <td>Stickers for Less</td>\n",
       "      <td>Kenya</td>\n",
       "      <td>Holographic Goose</td>\n",
       "      <td>2557</td>\n",
       "      <td>1358</td>\n",
       "    </tr>\n",
       "    <tr>\n",
       "      <th>60</th>\n",
       "      <td>Stickers for Less</td>\n",
       "      <td>Canada</td>\n",
       "      <td>Holographic Goose</td>\n",
       "      <td>2557</td>\n",
       "      <td>1308</td>\n",
       "    </tr>\n",
       "    <tr>\n",
       "      <th>45</th>\n",
       "      <td>Premium Sticker Mart</td>\n",
       "      <td>Kenya</td>\n",
       "      <td>Holographic Goose</td>\n",
       "      <td>2557</td>\n",
       "      <td>646</td>\n",
       "    </tr>\n",
       "    <tr>\n",
       "      <th>30</th>\n",
       "      <td>Premium Sticker Mart</td>\n",
       "      <td>Canada</td>\n",
       "      <td>Holographic Goose</td>\n",
       "      <td>2557</td>\n",
       "      <td>380</td>\n",
       "    </tr>\n",
       "    <tr>\n",
       "      <th>18</th>\n",
       "      <td>Discount Stickers</td>\n",
       "      <td>Kenya</td>\n",
       "      <td>Kerneler</td>\n",
       "      <td>2557</td>\n",
       "      <td>63</td>\n",
       "    </tr>\n",
       "    <tr>\n",
       "      <th>19</th>\n",
       "      <td>Discount Stickers</td>\n",
       "      <td>Kenya</td>\n",
       "      <td>Kerneler Dark Mode</td>\n",
       "      <td>2557</td>\n",
       "      <td>1</td>\n",
       "    </tr>\n",
       "    <tr>\n",
       "      <th>3</th>\n",
       "      <td>Discount Stickers</td>\n",
       "      <td>Canada</td>\n",
       "      <td>Kerneler</td>\n",
       "      <td>2557</td>\n",
       "      <td>1</td>\n",
       "    </tr>\n",
       "  </tbody>\n",
       "</table>\n",
       "</div>"
      ],
      "text/plain": [
       "                   store country             product  total_count  \\\n",
       "0      Discount Stickers  Canada   Holographic Goose         2557   \n",
       "15     Discount Stickers   Kenya   Holographic Goose         2557   \n",
       "75     Stickers for Less   Kenya   Holographic Goose         2557   \n",
       "60     Stickers for Less  Canada   Holographic Goose         2557   \n",
       "45  Premium Sticker Mart   Kenya   Holographic Goose         2557   \n",
       "30  Premium Sticker Mart  Canada   Holographic Goose         2557   \n",
       "18     Discount Stickers   Kenya            Kerneler         2557   \n",
       "19     Discount Stickers   Kenya  Kerneler Dark Mode         2557   \n",
       "3      Discount Stickers  Canada            Kerneler         2557   \n",
       "\n",
       "    missing_count  \n",
       "0            2557  \n",
       "15           2557  \n",
       "75           1358  \n",
       "60           1308  \n",
       "45            646  \n",
       "30            380  \n",
       "18             63  \n",
       "19              1  \n",
       "3               1  "
      ]
     },
     "execution_count": 25,
     "metadata": {},
     "output_type": "execute_result"
    }
   ],
   "source": [
    "# Group by store-country-product and count missing values\n",
    "missing_by_group = train.groupby(['store', 'country', 'product'])['num_sold'].agg(\n",
    "    total_count=lambda x: x.size,\n",
    "    missing_count=lambda x: x.isna().sum()\n",
    ").reset_index()\n",
    "\n",
    "# Sort descending to see worst-affected groups\n",
    "missing_by_group = missing_by_group.sort_values('missing_count', ascending=False)\n",
    "\n",
    "# Find all groups with missing values\n",
    "affected_groups = missing_by_group[missing_by_group['missing_count'] > 0]\n",
    "\n",
    "print(f\"Total groups with missing data: {len(affected_groups)}\")\n",
    "affected_groups.head(len(affected_groups))"
   ]
  },
  {
   "cell_type": "markdown",
   "metadata": {},
   "source": [
    "<details>\n",
    "<summary>Let's break \"handling the missing values\" down <b>conceptually</b> in three clear steps:</summary>\n",
    "    <h4><strong>1. Categorize Missing Values by Nature</strong></h4>\n",
    "    <p>Based on the table, there are <strong>three distinct types</strong> of missing values:</p>\n",
    "\n",
    "<table>\n",
    "    <tr>\n",
    "        <th>Type</th>\n",
    "        <th>Example Groups</th>\n",
    "        <th>Missing Pattern</th>\n",
    "        <th>Likely Cause</th>\n",
    "    </tr>\n",
    "    <tr>\n",
    "        <td><strong>A</strong></td>\n",
    "        <td>Discount Stickers (Canada/Kenya) - Holographic Goose</td>\n",
    "        <td>100% missing (2557/2557 days)</td>\n",
    "        <td>Product <strong>never available</strong> during 2010-2016</td>\n",
    "    </tr>\n",
    "    <tr>\n",
    "        <td><strong>B</strong></td>\n",
    "        <td>Stickers for Less (Kenya/Canada) - Holographic Goose</td>\n",
    "        <td>~50% missing</td>\n",
    "        <td><strong>Temporary unavailability</strong> or data collection gaps</td>\n",
    "    </tr>\n",
    "    <tr>\n",
    "        <td><strong>C</strong></td>\n",
    "        <td>Kerneler products in Kenya/Canada</td>\n",
    "        <td>1-63 missing days</td>\n",
    "        <td><strong>Random gaps</strong> (human error, system glitches)</td>\n",
    "    </tr>\n",
    "</table>\n",
    "\n",
    "<br>\n",
    "\n",
    "<h4><strong>2. Handle Each Type Differently</strong></h4>\n",
    "<h5><strong>Type A (Systemic Unavailability)</strong></h5>\n",
    "<ul>\n",
    "    <li><strong>Action:</strong> Treat as <strong>true zeros</strong> (<code>num_sold=0</code>)</li>\n",
    "    <li><strong>Why:</strong></li>\n",
    "    <ul>\n",
    "        <li>Test set includes these groups &rarr; product launches in 2017-2019</li>\n",
    "        <li>Model needs to learn \"no sales until availability starts\"</li>\n",
    "    </ul>\n",
    "    <li><strong>Add Feature:</strong> <code>is_available</code> (0 for these groups in 2010-2016, 1 elsewhere)</li>\n",
    "</ul>\n",
    "\n",
    "<h5><strong>Type B (Temporary Gaps)</strong></h5>\n",
    "<ul>\n",
    "    <li><strong>Action:</strong></li>\n",
    "    <ol>\n",
    "        <li>Forward-fill short gaps (&lt;7 days)</li>\n",
    "        <li>For longer gaps, use <strong>same-store-country-product median</strong></li>\n",
    "    </ol>\n",
    "    <li><strong>Why:</strong></li>\n",
    "    <ul>\n",
    "        <li>Preserves temporal consistency</li>\n",
    "        <li>Avoids overfitting to noise</li>\n",
    "    </ul>\n",
    "    <li><strong>Add Feature:</strong> <code>gap_length</code> (days since last observed sale)</li>\n",
    "</ul>\n",
    "\n",
    "<h5><strong>Type C (Random Gaps)</strong></h5>\n",
    "<ul>\n",
    "    <li><strong>Action:</strong> Use <strong>linear interpolation</strong> (neighboring days' average)</li>\n",
    "    <li><strong>Why:</strong></li>\n",
    "    <ul>\n",
    "        <li>Minimal impact on overall trends</li>\n",
    "        <li>Simple and conservative</li>\n",
    "    </ul>\n",
    "</ul>\n",
    "\n",
    "<br>\n",
    "\n",
    "<h4><strong>3. Critical Feature Engineering</strong></h4>\n",
    "<p>Add these to help models understand missingness context:</p>\n",
    "<ol>\n",
    "    <li><code>is_available</code>: Binary flag for systemic unavailability (Type A)</li>\n",
    "    <li><code>days_since_last_sale</code>: For Type B gaps &rarr; helps model detect recovery patterns</li>\n",
    "    <li><code>imputation_method</code>: Categorical feature indicating:</li>\n",
    "    <ul>\n",
    "        <li>0: No imputation</li>\n",
    "        <li>1: Systemic zero (Type A)</li>\n",
    "        <li>2: Median fill (Type B)</li>\n",
    "        <li>3: Linear interpolation (Type C)</li>\n",
    "    </ul>\n",
    "</ol>\n",
    "\n",
    "<br>\n",
    "\n",
    "<h4><strong>Why This Works for MAPE</strong></h4>\n",
    "<ul>\n",
    "    <li><strong>Type A:</strong> True zeros avoid infinite MAPE penalties if test set has post-2016 sales</li>\n",
    "    <li><strong>Type B/C:</strong> Median/interpolation provides stable baselines instead of extreme guesses</li>\n",
    "    <li><strong>Feature Flags:</strong> Allow models to weight predictions based on data quality</li>\n",
    "</ul>\n",
    "\n",
    "</details>"
   ]
  }
 ],
 "metadata": {
  "kernelspec": {
   "display_name": "Python 3",
   "language": "python",
   "name": "python3"
  },
  "language_info": {
   "codemirror_mode": {
    "name": "ipython",
    "version": 3
   },
   "file_extension": ".py",
   "mimetype": "text/x-python",
   "name": "python",
   "nbconvert_exporter": "python",
   "pygments_lexer": "ipython3",
   "version": "3.13.1"
  }
 },
 "nbformat": 4,
 "nbformat_minor": 2
}
