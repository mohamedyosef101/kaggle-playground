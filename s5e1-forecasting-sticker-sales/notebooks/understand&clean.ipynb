{
 "cells": [
  {
   "cell_type": "markdown",
   "metadata": {},
   "source": [
    "# 1 Understand the Data Structure"
   ]
  },
  {
   "cell_type": "code",
   "execution_count": 1,
   "metadata": {},
   "outputs": [
    {
     "name": "stdout",
     "output_type": "stream",
     "text": [
      "<class 'pandas.core.frame.DataFrame'>\n",
      "RangeIndex: 230130 entries, 0 to 230129\n",
      "Data columns (total 6 columns):\n",
      " #   Column    Non-Null Count   Dtype  \n",
      "---  ------    --------------   -----  \n",
      " 0   id        230130 non-null  int64  \n",
      " 1   date      230130 non-null  object \n",
      " 2   country   230130 non-null  object \n",
      " 3   store     230130 non-null  object \n",
      " 4   product   230130 non-null  object \n",
      " 5   num_sold  221259 non-null  float64\n",
      "dtypes: float64(1), int64(1), object(4)\n",
      "memory usage: 10.5+ MB\n"
     ]
    }
   ],
   "source": [
    "import os\n",
    "import pandas as pd\n",
    "import numpy as np \n",
    "import matplotlib.pyplot as plt\n",
    "import seaborn as sns\n",
    "\n",
    "os.chdir('../data/raw')\n",
    "train = pd.read_csv('train.csv')\n",
    "test = pd.read_csv('test.csv')\n",
    "train.info()"
   ]
  },
  {
   "cell_type": "markdown",
   "metadata": {},
   "source": [
    "### 1.1 Check how many unique stores, countries, and product exist"
   ]
  },
  {
   "cell_type": "code",
   "execution_count": 4,
   "metadata": {},
   "outputs": [
    {
     "name": "stdout",
     "output_type": "stream",
     "text": [
      "Train: \n",
      "store\n",
      "Discount Stickers       76710\n",
      "Stickers for Less       76710\n",
      "Premium Sticker Mart    76710\n",
      "Name: count, dtype: int64 \n",
      "====\n",
      "Test:\n",
      " store\n",
      "Discount Stickers       32850\n",
      "Stickers for Less       32850\n",
      "Premium Sticker Mart    32850\n",
      "Name: count, dtype: int64\n"
     ]
    }
   ],
   "source": [
    "# Stores\n",
    "print(\n",
    "    f\"Train: \\n{train.store.value_counts()}\", \n",
    "    f\"\\n====\\nTest:\\n {test.store.value_counts()}\"\n",
    "    )"
   ]
  },
  {
   "cell_type": "code",
   "execution_count": 5,
   "metadata": {},
   "outputs": [
    {
     "name": "stdout",
     "output_type": "stream",
     "text": [
      "Train: \n",
      "country\n",
      "Canada       38355\n",
      "Finland      38355\n",
      "Italy        38355\n",
      "Kenya        38355\n",
      "Norway       38355\n",
      "Singapore    38355\n",
      "Name: count, dtype: int64 \n",
      "====\n",
      "Test:\n",
      " country\n",
      "Canada       16425\n",
      "Finland      16425\n",
      "Italy        16425\n",
      "Kenya        16425\n",
      "Norway       16425\n",
      "Singapore    16425\n",
      "Name: count, dtype: int64\n"
     ]
    }
   ],
   "source": [
    "# Countries\n",
    "print(\n",
    "    f\"Train: \\n{train.country.value_counts()}\", \n",
    "    f\"\\n====\\nTest:\\n {test.country.value_counts()}\"\n",
    "    )"
   ]
  },
  {
   "cell_type": "code",
   "execution_count": 14,
   "metadata": {},
   "outputs": [
    {
     "name": "stdout",
     "output_type": "stream",
     "text": [
      "Train: \n",
      "product\n",
      "Holographic Goose     46026\n",
      "Kaggle                46026\n",
      "Kaggle Tiers          46026\n",
      "Kerneler              46026\n",
      "Kerneler Dark Mode    46026\n",
      "Name: count, dtype: int64 \n",
      "====\n",
      "Test:\n",
      " product\n",
      "Holographic Goose     19710\n",
      "Kaggle                19710\n",
      "Kaggle Tiers          19710\n",
      "Kerneler              19710\n",
      "Kerneler Dark Mode    19710\n",
      "Name: count, dtype: int64\n"
     ]
    }
   ],
   "source": [
    "# Products \n",
    "print(\n",
    "    f\"Train: \\n{train['product'].value_counts()}\", \n",
    "    f\"\\n====\\nTest:\\n {test['product'].value_counts()}\"\n",
    "    )"
   ]
  },
  {
   "cell_type": "markdown",
   "metadata": {},
   "source": [
    "<div style=\"padding: 20px 12px; background-color: lightcyan; color: darkcyan; font-weight: bold\"> The stores, countries, and products are divided equally... </div>"
   ]
  },
  {
   "cell_type": "markdown",
   "metadata": {},
   "source": [
    "### 1.2 Identify the time range of training vs test data"
   ]
  },
  {
   "cell_type": "code",
   "execution_count": 19,
   "metadata": {},
   "outputs": [
    {
     "name": "stdout",
     "output_type": "stream",
     "text": [
      "Train: \n",
      "min    2010-01-01\n",
      "max    2016-12-31\n",
      "Name: date, dtype: object \n",
      "====\n",
      "Test:\n",
      " min    2017-01-01\n",
      "max    2019-12-31\n",
      "Name: date, dtype: object\n"
     ]
    }
   ],
   "source": [
    "# Dates\n",
    "print(\n",
    "    f\"Train: \\n{train['date'].agg(['min', 'max'])}\", \n",
    "    f\"\\n====\\nTest:\\n {test['date'].agg(['min', 'max'])}\"\n",
    "    )"
   ]
  },
  {
   "cell_type": "markdown",
   "metadata": {},
   "source": [
    "<div style=\"padding: 20px 12px; background-color: lightcyan; color: darkcyan; font-weight: bold\">\n",
    "    The time range for training set is from the beginning of 2010 to the end of 2016 (7 years) while for the test set, it is from 2017 to the end of 2019 (2 years).\n",
    "</div>"
   ]
  },
  {
   "cell_type": "markdown",
   "metadata": {},
   "source": [
    "### 1.3 Verify date frequency"
   ]
  },
  {
   "cell_type": "code",
   "execution_count": 20,
   "metadata": {},
   "outputs": [
    {
     "data": {
      "text/plain": [
       "date\n",
       "2016-12-31    90\n",
       "2010-01-01    90\n",
       "2010-01-02    90\n",
       "2010-01-03    90\n",
       "2010-01-04    90\n",
       "              ..\n",
       "2010-01-18    90\n",
       "2010-01-17    90\n",
       "2010-01-16    90\n",
       "2010-01-15    90\n",
       "2010-01-14    90\n",
       "Name: count, Length: 2557, dtype: int64"
      ]
     },
     "execution_count": 20,
     "metadata": {},
     "output_type": "execute_result"
    }
   ],
   "source": [
    "train['date'].value_counts()"
   ]
  },
  {
   "cell_type": "code",
   "execution_count": 22,
   "metadata": {},
   "outputs": [
    {
     "data": {
      "text/plain": [
       "date\n",
       "2019-12-31    90\n",
       "2017-01-01    90\n",
       "2017-01-02    90\n",
       "2017-01-03    90\n",
       "2017-01-04    90\n",
       "              ..\n",
       "2017-01-12    90\n",
       "2017-01-11    90\n",
       "2017-01-10    90\n",
       "2017-01-09    90\n",
       "2017-01-08    90\n",
       "Name: count, Length: 1095, dtype: int64"
      ]
     },
     "execution_count": 22,
     "metadata": {},
     "output_type": "execute_result"
    }
   ],
   "source": [
    "test['date'].value_counts()"
   ]
  },
  {
   "cell_type": "markdown",
   "metadata": {},
   "source": [
    "<div style=\"padding: 20px 12px; background-color: lightcyan; color: darkcyan; font-weight: bold\">\n",
    "    For each day, there are 90 occurrences.\n",
    "</div>"
   ]
  }
 ],
 "metadata": {
  "kernelspec": {
   "display_name": "Python 3",
   "language": "python",
   "name": "python3"
  },
  "language_info": {
   "codemirror_mode": {
    "name": "ipython",
    "version": 3
   },
   "file_extension": ".py",
   "mimetype": "text/x-python",
   "name": "python",
   "nbconvert_exporter": "python",
   "pygments_lexer": "ipython3",
   "version": "3.13.1"
  }
 },
 "nbformat": 4,
 "nbformat_minor": 2
}
